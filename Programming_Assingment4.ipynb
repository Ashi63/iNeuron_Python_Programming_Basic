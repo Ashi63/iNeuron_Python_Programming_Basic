{
 "cells": [
  {
   "cell_type": "markdown",
   "id": "fe18e483",
   "metadata": {},
   "source": [
    "#### 1.\tWrite a Python Program to Find the Factorial of a Number?\n"
   ]
  },
  {
   "cell_type": "code",
   "execution_count": 9,
   "id": "00950722",
   "metadata": {},
   "outputs": [
    {
     "name": "stdout",
     "output_type": "stream",
     "text": [
      "Enter the number for it's factors5\n",
      "Factors of 5 are [1, 5]\n"
     ]
    }
   ],
   "source": [
    "def factors(n):\n",
    "    factors_of_n =[]\n",
    "    for i in range(1,n+1):\n",
    "        if n%i == 0:\n",
    "            factors_of_n.append(i)\n",
    "    return factors_of_n\n",
    "n = int(input(\"Enter the number for it's factors\"))\n",
    "print(f\"Factors of {n} are {factors(n)}\")"
   ]
  },
  {
   "cell_type": "markdown",
   "id": "843a65c0",
   "metadata": {},
   "source": [
    "#### 2.\tWrite a Python Program to Display the multiplication Table?"
   ]
  },
  {
   "cell_type": "code",
   "execution_count": 13,
   "id": "af4f09b9",
   "metadata": {},
   "outputs": [
    {
     "name": "stdout",
     "output_type": "stream",
     "text": [
      "Enter the number for it's Table10\n",
      "10\n",
      "20\n",
      "30\n",
      "40\n",
      "50\n",
      "60\n",
      "70\n",
      "80\n",
      "90\n",
      "100\n"
     ]
    }
   ],
   "source": [
    "def mul_table(n):\n",
    "    for i in range(1,11):\n",
    "        print(i*n)\n",
    "n = int(input(\"Enter the number for it's Table\"))\n",
    "mul_table(n)"
   ]
  },
  {
   "cell_type": "markdown",
   "id": "5b6d6213",
   "metadata": {},
   "source": [
    "#### 3.\tWrite a Python Program to Print the Fibonacci sequence?\n"
   ]
  },
  {
   "cell_type": "code",
   "execution_count": 17,
   "id": "cafe7541",
   "metadata": {},
   "outputs": [
    {
     "name": "stdout",
     "output_type": "stream",
     "text": [
      "How many terms.?  7\n",
      "Fibonacci Sequence: \n",
      "0\n",
      "1\n",
      "1\n",
      "2\n",
      "3\n",
      "5\n",
      "8\n"
     ]
    }
   ],
   "source": [
    "nterms = int(input(\"How many terms.?  \"))\n",
    "\n",
    "n1,n2 = 0,1\n",
    "count = 0\n",
    "\n",
    "if nterms <=0:\n",
    "    print(\"Please enter a positive number\")\n",
    "\n",
    "elif nterms == 1:\n",
    "    print(f\"Fibonacci Sequence upto { nterms} :\")\n",
    "    print(n1)\n",
    "else:\n",
    "    print(\"Fibonacci Sequence: \")\n",
    "    while count<nterms:\n",
    "        print(n1)\n",
    "        nth = n1+n2\n",
    "        n1 = n2\n",
    "        n2 = nth\n",
    "        count +=1"
   ]
  },
  {
   "cell_type": "markdown",
   "id": "0d339426",
   "metadata": {},
   "source": [
    "#### 4.\tWrite a Python Program to Check Armstrong Number?\n"
   ]
  },
  {
   "cell_type": "code",
   "execution_count": 33,
   "id": "8140f007",
   "metadata": {},
   "outputs": [
    {
     "name": "stdout",
     "output_type": "stream",
     "text": [
      "Enter the number: 407\n",
      "The Number is ArmStrongNumber.!\n"
     ]
    }
   ],
   "source": [
    "num = int(input(\"Enter the number: \"))\n",
    "order = len(str(num))\n",
    "sum = 0 \n",
    "temp = num\n",
    "\n",
    "while temp>0:\n",
    "    digit = temp%10\n",
    "    sum += digit ** order\n",
    "    temp //=10\n",
    "if num == sum:\n",
    "    print(\"The Number is ArmStrongNumber.!\")\n",
    "else:\n",
    "    print(\"Not a ArmStrongNumber.!\")\n",
    "    "
   ]
  },
  {
   "cell_type": "markdown",
   "id": "3a30f6a0",
   "metadata": {},
   "source": [
    "#### 5.\tWrite a Python Program to Find Armstrong Number in an Interval?\n"
   ]
  },
  {
   "cell_type": "code",
   "execution_count": 28,
   "id": "a3a4a8d5",
   "metadata": {},
   "outputs": [
    {
     "name": "stdout",
     "output_type": "stream",
     "text": [
      "Enter the number to start from: 100\n",
      "Enter the number till        : 1000\n",
      "153\n",
      "370\n",
      "371\n",
      "407\n"
     ]
    }
   ],
   "source": [
    "lower = int(input(\"Enter the number to start from: \"))\n",
    "upper = int(input (\"Enter the number till        : \"))\n",
    "\n",
    "for num in range(lower,upper+1):\n",
    "    order  = len(str(num))\n",
    "    sum = 0\n",
    "    temp = num\n",
    "    while temp>0:\n",
    "        digit = temp%10\n",
    "        sum += digit**order\n",
    "        temp //=10\n",
    "    if num == sum:\n",
    "        print(num)"
   ]
  },
  {
   "cell_type": "markdown",
   "id": "a2f85fde",
   "metadata": {},
   "source": [
    "#### 6.\tWrite a Python Program to Find the Sum of Natural Numbers?\n"
   ]
  },
  {
   "cell_type": "code",
   "execution_count": 35,
   "id": "c44859de",
   "metadata": {},
   "outputs": [
    {
     "name": "stdout",
     "output_type": "stream",
     "text": [
      "Enter number: 5\n",
      "15\n"
     ]
    }
   ],
   "source": [
    "num = int(input(\"Enter number: \"))\n",
    "if num < 0 :\n",
    "    print(\"Please Enter the positive number\")\n",
    "else:\n",
    "    sum = 0\n",
    "    while num > 0:\n",
    "        sum += num\n",
    "        num -= 1\n",
    "    print(sum)"
   ]
  },
  {
   "cell_type": "code",
   "execution_count": null,
   "id": "0ffa87e8",
   "metadata": {},
   "outputs": [],
   "source": []
  }
 ],
 "metadata": {
  "kernelspec": {
   "display_name": "Python 3 (ipykernel)",
   "language": "python",
   "name": "python3"
  },
  "language_info": {
   "codemirror_mode": {
    "name": "ipython",
    "version": 3
   },
   "file_extension": ".py",
   "mimetype": "text/x-python",
   "name": "python",
   "nbconvert_exporter": "python",
   "pygments_lexer": "ipython3",
   "version": "3.10.5"
  }
 },
 "nbformat": 4,
 "nbformat_minor": 5
}
