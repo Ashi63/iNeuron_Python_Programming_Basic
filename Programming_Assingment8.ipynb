{
 "cells": [
  {
   "cell_type": "markdown",
   "id": "79b422de",
   "metadata": {},
   "source": [
    "#### 1.\tWrite a Python Program to Add Two Matrices?\n",
    "\n"
   ]
  },
  {
   "cell_type": "code",
   "execution_count": 6,
   "id": "ba93979a",
   "metadata": {},
   "outputs": [
    {
     "name": "stdout",
     "output_type": "stream",
     "text": [
      "[5, 10, 14]\n",
      "[12, 15, 8]\n",
      "[10, 7, 9]\n"
     ]
    }
   ],
   "source": [
    "a = [[1,5,8],\n",
    "     [4,6,7],\n",
    "     [7,2,3]]\n",
    "b = [[4,5,6],\n",
    "     [8,9,1],\n",
    "     [3,5,6]]\n",
    "     \n",
    "result = [[0,0,0],\n",
    "         [0,0,0],\n",
    "         [0,0,0]]\n",
    "\n",
    "for i in range(len(a)):\n",
    "    for j in range(len(a[0])):\n",
    "        result[i][j] = a [i][j]+b[i][j]\n",
    "\n",
    "for r in result:\n",
    "    print(r)"
   ]
  },
  {
   "cell_type": "markdown",
   "id": "7bbb6fb6",
   "metadata": {},
   "source": [
    "#### 2.\tWrite a Python Program to Multiply Two Matrices?"
   ]
  },
  {
   "cell_type": "code",
   "execution_count": 8,
   "id": "c3a9f109",
   "metadata": {},
   "outputs": [
    {
     "name": "stdout",
     "output_type": "stream",
     "text": [
      "[68, 90, 59]\n",
      "[85, 109, 72]\n",
      "[53, 68, 62]\n"
     ]
    }
   ],
   "source": [
    "a = [[1,5,8],\n",
    "     [4,6,7],\n",
    "     [7,2,3]]\n",
    "b = [[4,5,6],\n",
    "     [8,9,1],\n",
    "     [3,5,6]]\n",
    "     \n",
    "result = [[0,0,0],\n",
    "         [0,0,0],\n",
    "         [0,0,0]]\n",
    "\n",
    "for i in range(len(a)):\n",
    "    for j in range(len(b[0])):\n",
    "        for k in range(len(b)):\n",
    "            result[i][j] += a [i][k]*b[k][j]\n",
    "\n",
    "for r in result:\n",
    "    print(r)"
   ]
  },
  {
   "cell_type": "markdown",
   "id": "8d2d6575",
   "metadata": {},
   "source": [
    "#### 3.\tWrite a Python Program to Transpose a Matrix?\n"
   ]
  },
  {
   "cell_type": "code",
   "execution_count": 13,
   "id": "f9f17549",
   "metadata": {},
   "outputs": [
    {
     "name": "stdout",
     "output_type": "stream",
     "text": [
      "[2, 5]\n",
      "[4, 6]\n",
      "[6, 7]\n"
     ]
    }
   ],
   "source": [
    "a = [[2,4,6],\n",
    "    [5,6,7]]\n",
    "\n",
    "t = [[0,0],\n",
    "    [0,0],\n",
    "     [0,0]]\n",
    "\n",
    "for i in range(len(a)):\n",
    "    for j in range(len(a[0])):\n",
    "        t[j][i]= a[i][j]\n",
    "\n",
    "for i in t:\n",
    "    print(i)\n",
    "        \n"
   ]
  },
  {
   "cell_type": "markdown",
   "id": "7ad9e828",
   "metadata": {},
   "source": [
    "#### 4.\tWrite a Python Program to Sort Words in Alphabetic Order?\n"
   ]
  },
  {
   "cell_type": "code",
   "execution_count": 17,
   "id": "e6a1ea0d",
   "metadata": {},
   "outputs": [
    {
     "name": "stdout",
     "output_type": "stream",
     "text": [
      "Sorted list: ['ashish', 'manish', 'vivek']\n"
     ]
    }
   ],
   "source": [
    "a = ['ashish','manish','vivek']\n",
    "print(f\"Sorted list: {sorted(a)}\")"
   ]
  },
  {
   "cell_type": "code",
   "execution_count": 24,
   "id": "fd932a97",
   "metadata": {},
   "outputs": [
    {
     "name": "stdout",
     "output_type": "stream",
     "text": [
      "['sachin', 'is', 'best', 'bastmen', 'of', 'indian', 'cricket']\n",
      "['bastmen', 'best', 'cricket', 'indian', 'is', 'of', 'sachin']\n"
     ]
    }
   ],
   "source": [
    "a = \"Sachin is best bastmen of Indian Cricket\"\n",
    "\n",
    "words = a.split()\n",
    "print(w)\n",
    "\n",
    "for i in range(len(words)):\n",
    "    words[i] = words[i].lower()\n",
    "\n",
    "w.sort()\n",
    "print(w)\n",
    "    "
   ]
  },
  {
   "cell_type": "markdown",
   "id": "f9b1eed2",
   "metadata": {},
   "source": [
    "#### 5.\tWrite a Python Program to Remove Punctuation From a String?"
   ]
  },
  {
   "cell_type": "code",
   "execution_count": 31,
   "id": "7ae6759d",
   "metadata": {},
   "outputs": [
    {
     "name": "stdout",
     "output_type": "stream",
     "text": [
      "Hello How are you Welcome to my house\n"
     ]
    }
   ],
   "source": [
    "a = \"Hello! How are you?? Welcome, to my house.\"\n",
    "punc = \"\"\"!\"#$%&'()*+,-./:;<=>?@[\\]^_`{|}~\"\"\"\n",
    "empty_str = \"\"\n",
    "for i in a:\n",
    "    if i not in punc:\n",
    "        empty_str = empty_str+i\n",
    "        \n",
    "print(empty_str)"
   ]
  },
  {
   "cell_type": "code",
   "execution_count": null,
   "id": "93483f46",
   "metadata": {},
   "outputs": [],
   "source": []
  }
 ],
 "metadata": {
  "kernelspec": {
   "display_name": "Python 3 (ipykernel)",
   "language": "python",
   "name": "python3"
  },
  "language_info": {
   "codemirror_mode": {
    "name": "ipython",
    "version": 3
   },
   "file_extension": ".py",
   "mimetype": "text/x-python",
   "name": "python",
   "nbconvert_exporter": "python",
   "pygments_lexer": "ipython3",
   "version": "3.10.5"
  }
 },
 "nbformat": 4,
 "nbformat_minor": 5
}
