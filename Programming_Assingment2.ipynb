{
 "cells": [
  {
   "cell_type": "markdown",
   "id": "a2c8af80",
   "metadata": {},
   "source": [
    "#### 1.\tWrite a Python program to convert kilometers to miles?"
   ]
  },
  {
   "cell_type": "code",
   "execution_count": 2,
   "id": "3e84ea16",
   "metadata": {},
   "outputs": [
    {
     "name": "stdout",
     "output_type": "stream",
     "text": [
      "Your distance in Km: 2\n",
      "Distance in Miles is:   1.242742\n"
     ]
    }
   ],
   "source": [
    "mile_factor = 0.621371\n",
    "\n",
    "dist_in_km = int(input(\"Your distance in Km: \"))\n",
    "dist_in_mile =dist_in_km * mile_factor\n",
    "print(\"Distance in Miles is:  \",dist_in_mile)"
   ]
  },
  {
   "cell_type": "markdown",
   "id": "f68b8f46",
   "metadata": {},
   "source": [
    "#### 2.\tWrite a Python program to convert Celsius to Fahrenheit?"
   ]
  },
  {
   "cell_type": "code",
   "execution_count": 4,
   "id": "fcad5514",
   "metadata": {},
   "outputs": [
    {
     "name": "stdout",
     "output_type": "stream",
     "text": [
      "Your temperature in celsius: 10\n",
      "Temperature in Fahrenheit is:   50.0\n"
     ]
    }
   ],
   "source": [
    "fahrenheit_factor = 32\n",
    "\n",
    "temp_in_celsius = int(input(\"Your temperature in celsius: \"))\n",
    "temperatur_in_fahrenheit = (temp_in_celsius * (9/5)) + fahrenheit_factor\n",
    "print(\"Temperature in Fahrenheit is:  \",temperatur_in_fahrenheit)"
   ]
  },
  {
   "cell_type": "markdown",
   "id": "b3a27688",
   "metadata": {},
   "source": [
    "#### 3.\tWrite a Python program to display calendar?\n"
   ]
  },
  {
   "cell_type": "code",
   "execution_count": 8,
   "id": "b3cbcb79",
   "metadata": {},
   "outputs": [
    {
     "name": "stdout",
     "output_type": "stream",
     "text": [
      "Enter the year: 2022\n",
      "Enter the month: 12\n",
      "\n",
      "   December 2022\n",
      "Mo Tu We Th Fr Sa Su\n",
      "          1  2  3  4\n",
      " 5  6  7  8  9 10 11\n",
      "12 13 14 15 16 17 18\n",
      "19 20 21 22 23 24 25\n",
      "26 27 28 29 30 31\n",
      "\n"
     ]
    }
   ],
   "source": [
    "import calendar\n",
    "\n",
    "yy = int(input(\"Enter the year: \"))\n",
    "mm = int(input(\"Enter the month: \"))\n",
    "print()\n",
    "print(calendar.month(yy,mm))\n",
    "print()\n",
    "print(calendar.)"
   ]
  },
  {
   "cell_type": "markdown",
   "id": "e2d82fbf",
   "metadata": {},
   "source": [
    "#### 4.\tWrite a Python program to solve quadratic equation?\n"
   ]
  },
  {
   "cell_type": "code",
   "execution_count": 16,
   "id": "28bf7779",
   "metadata": {},
   "outputs": [
    {
     "name": "stdout",
     "output_type": "stream",
     "text": [
      "Real and different roots \n",
      "2.0\n",
      "-12.0\n"
     ]
    }
   ],
   "source": [
    "import math\n",
    "# quadratic equation is ax2+bx=c, where a,b,c are coefficients and real numbers and also!=0\n",
    "# formula for solving quadratic equation.\n",
    "# x = (-b +_sqrt(b**2-4ac))/2a\n",
    "\n",
    "\n",
    "def eq_roots(a,b,c): \n",
    "    \n",
    "    # calculating discriminant using formula\n",
    "    dis = b * b - 4 * a * c\n",
    "    sqrt_val = math.sqrt(abs(dis))\n",
    "    \n",
    "    # checking condition for discriminant\n",
    "    if dis > 0:\n",
    "        print(\"Real and different roots \")\n",
    "        print(( -b + sqrt_val)/2 * a)\n",
    "        print(( -b - sqrt_val)/2 * a)\n",
    "    elif dis == 0:\n",
    "        print(\"Real and Same Roots \")\n",
    "        print(-b/(2*a))\n",
    "        \n",
    "    # when discriminant is less than 0\n",
    "    else:\n",
    "        print(\"Complex Roots\")\n",
    "        print(-b / (2 * a), \"+ i\",sqrt_val)\n",
    "        print(-b / (2 * a), \"- i\",sqrt_val)\n",
    "        \n",
    "a = 1\n",
    "b = 10\n",
    "c= -24\n",
    "\n",
    "if a == 0:\n",
    "    print(\"Input correct quadratic equation\")\n",
    "else:\n",
    "    eq_roots(a,b,c)"
   ]
  },
  {
   "cell_type": "markdown",
   "id": "cc79e478",
   "metadata": {},
   "source": [
    "#### 5.\tWrite a Python program to swap two variables without temp variable?"
   ]
  },
  {
   "cell_type": "code",
   "execution_count": 20,
   "id": "27ad7e28",
   "metadata": {},
   "outputs": [
    {
     "name": "stdout",
     "output_type": "stream",
     "text": [
      "a original  :  10\n",
      "b original  :  20\n",
      "a after swap:  20\n",
      "b after swap:  10\n"
     ]
    }
   ],
   "source": [
    "a = 10\n",
    "b = 20\n",
    "print(\"a original  : \",a)\n",
    "print(\"b original  : \",b)\n",
    "\n",
    "a = a + b\n",
    "b = a - b\n",
    "a = a - b\n",
    "\n",
    "print(\"a after swap: \",a)\n",
    "print(\"b after swap: \",b)\n"
   ]
  },
  {
   "cell_type": "code",
   "execution_count": null,
   "id": "c2ef0cd4",
   "metadata": {},
   "outputs": [],
   "source": []
  }
 ],
 "metadata": {
  "kernelspec": {
   "display_name": "Python 3 (ipykernel)",
   "language": "python",
   "name": "python3"
  },
  "language_info": {
   "codemirror_mode": {
    "name": "ipython",
    "version": 3
   },
   "file_extension": ".py",
   "mimetype": "text/x-python",
   "name": "python",
   "nbconvert_exporter": "python",
   "pygments_lexer": "ipython3",
   "version": "3.10.5"
  }
 },
 "nbformat": 4,
 "nbformat_minor": 5
}
