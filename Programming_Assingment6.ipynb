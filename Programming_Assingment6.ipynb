{
 "cells": [
  {
   "cell_type": "markdown",
   "id": "85c8a348",
   "metadata": {},
   "source": [
    "#### 1.\tWrite a Python Program to Display Fibonacci Sequence Using Recursion?\n"
   ]
  },
  {
   "cell_type": "code",
   "execution_count": 4,
   "id": "018c9910",
   "metadata": {},
   "outputs": [
    {
     "name": "stdout",
     "output_type": "stream",
     "text": [
      "Enter the number.5\n",
      "Fibonacci Sequence.\n",
      "0\n",
      "1\n",
      "1\n",
      "2\n",
      "3\n"
     ]
    }
   ],
   "source": [
    "def fib(n):\n",
    "    if n <= 1:\n",
    "        return n\n",
    "    else:\n",
    "        return fib(n-1)+fib(n-2)\n",
    "\n",
    "n = int(input(\"Enter the number.\"))\n",
    "if n<=0:\n",
    "    print(\"Enter positive number.\")\n",
    "else:\n",
    "    print(\"Fibonacci Sequence.\")\n",
    "    \n",
    "for i in range(n):\n",
    "    print(fib(i))"
   ]
  },
  {
   "cell_type": "markdown",
   "id": "ba380d7e",
   "metadata": {},
   "source": [
    "#### 2.\tWrite a Python Program to Find Factorial of Number Using Recursion?\n"
   ]
  },
  {
   "cell_type": "code",
   "execution_count": 6,
   "id": "746447f4",
   "metadata": {},
   "outputs": [
    {
     "name": "stdout",
     "output_type": "stream",
     "text": [
      "Enter the number.4\n",
      "Factorial of given number is  24\n"
     ]
    }
   ],
   "source": [
    "# 6! = 6*5*4*3*2*1\n",
    "# 6! = 6*5!\n",
    "# 5! = 5*4!..............\n",
    "# n*(n-1)\n",
    "def fact(n):\n",
    "    if n == 1:\n",
    "        return 1\n",
    "    else: \n",
    "        return n * fact(n-1)\n",
    "    \n",
    "n = int(input(\"Enter the number.\"))\n",
    "if n <= 0:\n",
    "    print(\"Factorial of number less than 1 does not exits.\")\n",
    "else:\n",
    "    print(\"Factorial of given number is \", fact(n))"
   ]
  },
  {
   "cell_type": "markdown",
   "id": "036042bc",
   "metadata": {},
   "source": [
    "#### 3.\tWrite a Python Program to calculate your Body Mass Index?\n"
   ]
  },
  {
   "cell_type": "code",
   "execution_count": 12,
   "id": "76688398",
   "metadata": {},
   "outputs": [
    {
     "name": "stdout",
     "output_type": "stream",
     "text": [
      "Enter the height (in meters): 1.8\n",
      "Enter the weight(in kg): 80\n",
      "Your Body Mass Index is: 24.69\n"
     ]
    }
   ],
   "source": [
    "def bmi(height,weight):\n",
    "    return round((weight/height**2),2)\n",
    "\n",
    "height=float(input(\"Enter the height (in meters): \"))\n",
    "weight=float(input(\"Enter the weight(in kg): \"))\n",
    "print(f\"Your Body Mass Index is: {bmi(height,weight)}\")"
   ]
  },
  {
   "cell_type": "markdown",
   "id": "12553615",
   "metadata": {},
   "source": [
    "#### 4.\tWrite a Python Program to calculate the natural logarithm of any number?\n"
   ]
  },
  {
   "cell_type": "code",
   "execution_count": 20,
   "id": "61548f50",
   "metadata": {},
   "outputs": [
    {
     "name": "stdout",
     "output_type": "stream",
     "text": [
      "Enter the number: 14\n",
      "Natural Log of 14.0 is: 2.6390573296152584\n"
     ]
    }
   ],
   "source": [
    "import math\n",
    "n = float(input(\"Enter the number: \"))\n",
    "#base = float(input(\"Enter the base: \"))\n",
    "print(f\"Natural Log of {n} is: {math.log(n)}\")\n",
    "#print(f\"Natural Log of base {base} of {n} is: {math.log(n,base)}\")"
   ]
  },
  {
   "cell_type": "markdown",
   "id": "74e3dc4e",
   "metadata": {},
   "source": [
    "#### 5.\tWrite a Python Program for cube sum of first n natural numbers?\n"
   ]
  },
  {
   "cell_type": "code",
   "execution_count": 26,
   "id": "f24fb9a8",
   "metadata": {},
   "outputs": [
    {
     "data": {
      "text/plain": [
       "225"
      ]
     },
     "execution_count": 26,
     "metadata": {},
     "output_type": "execute_result"
    }
   ],
   "source": [
    "# (n(n+1)/2)**2\n",
    "\n",
    "def cube_sum(n):\n",
    "    result = (n*(n+1)/2)\n",
    "    return int(result*result)\n",
    "\n",
    "cube_sum(float(5))"
   ]
  },
  {
   "cell_type": "code",
   "execution_count": null,
   "id": "c59a853d",
   "metadata": {},
   "outputs": [],
   "source": []
  }
 ],
 "metadata": {
  "kernelspec": {
   "display_name": "Python 3 (ipykernel)",
   "language": "python",
   "name": "python3"
  },
  "language_info": {
   "codemirror_mode": {
    "name": "ipython",
    "version": 3
   },
   "file_extension": ".py",
   "mimetype": "text/x-python",
   "name": "python",
   "nbconvert_exporter": "python",
   "pygments_lexer": "ipython3",
   "version": "3.10.5"
  }
 },
 "nbformat": 4,
 "nbformat_minor": 5
}
