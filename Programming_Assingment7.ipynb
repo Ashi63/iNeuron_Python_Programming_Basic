{
 "cells": [
  {
   "cell_type": "markdown",
   "id": "eac1a9e8",
   "metadata": {},
   "source": [
    "#### 1.\tWrite a Python Program to find sum of array?\n"
   ]
  },
  {
   "cell_type": "code",
   "execution_count": 6,
   "id": "642bc8f1",
   "metadata": {},
   "outputs": [
    {
     "name": "stdout",
     "output_type": "stream",
     "text": [
      "Sum of array is: 10\n"
     ]
    }
   ],
   "source": [
    "l = [1,2,3,4]\n",
    "def sum_arr(l):\n",
    "    sum = 0\n",
    "    for i in l:\n",
    "        sum = sum + i\n",
    "    return sum\n",
    "print(f\"Sum of array is: {sum_arr(l)}\")"
   ]
  },
  {
   "cell_type": "markdown",
   "id": "df0437c8",
   "metadata": {},
   "source": [
    "#### 2.\tWrite a Python Program to find largest element in an array?\n"
   ]
  },
  {
   "cell_type": "code",
   "execution_count": 10,
   "id": "2a7111b1",
   "metadata": {},
   "outputs": [
    {
     "name": "stdout",
     "output_type": "stream",
     "text": [
      "Largest number in array is 4\n"
     ]
    }
   ],
   "source": [
    "def largest_num(l):\n",
    "    for i in l:\n",
    "        max_num = max(l)\n",
    "    return max_num\n",
    "print(f\"Largest number in array is {largest_num(l)}\")"
   ]
  },
  {
   "cell_type": "markdown",
   "id": "511a9fc2",
   "metadata": {},
   "source": [
    "#### 3.\tWrite a Python Program for array rotation?\n"
   ]
  },
  {
   "cell_type": "code",
   "execution_count": 11,
   "id": "0f8a4fd5",
   "metadata": {},
   "outputs": [
    {
     "name": "stdout",
     "output_type": "stream",
     "text": [
      "Array after left rotation is:  [3, 4, 5, 6, 7, 1, 2]\n"
     ]
    }
   ],
   "source": [
    "def rotateArray(arr,n,d):\n",
    "    temp=[]\n",
    "    i = 0 \n",
    "    while (i<d):\n",
    "        temp.append(arr[i])\n",
    "        i = i +1\n",
    "        \n",
    "    i = 0 \n",
    "    while (d<n):\n",
    "        arr[i] = arr[d]\n",
    "        i = i+1\n",
    "        d = d+1\n",
    "    arr[:] = arr[:i] + temp\n",
    "    return arr\n",
    "\n",
    "arr = [1,2,3,4,5,6,7]\n",
    "print(\"Array after left rotation is: \", end=' ')\n",
    "print(rotateArray(arr,len(arr),2))"
   ]
  },
  {
   "cell_type": "markdown",
   "id": "849bc956",
   "metadata": {},
   "source": [
    "#### 4.\tWrite a Python Program to Split the array and add the first part to the end?\n"
   ]
  },
  {
   "cell_type": "code",
   "execution_count": 12,
   "id": "8b2cd970",
   "metadata": {},
   "outputs": [
    {
     "name": "stdout",
     "output_type": "stream",
     "text": [
      "Array after left rotation is:  [2, 3, 4, 5, 6, 7, 1]\n"
     ]
    }
   ],
   "source": [
    "def rotateArray(arr,n,d):\n",
    "    temp=[]\n",
    "    i = 0 \n",
    "    while (i<d):\n",
    "        temp.append(arr[i])\n",
    "        i = i +1\n",
    "        \n",
    "    i = 0 \n",
    "    while (d<n):\n",
    "        arr[i] = arr[d]\n",
    "        i = i+1\n",
    "        d = d+1\n",
    "    arr[:] = arr[:i] + temp\n",
    "    return arr\n",
    "\n",
    "arr = [1,2,3,4,5,6,7]\n",
    "print(\"Array after left rotation is: \", end=' ')\n",
    "print(rotateArray(arr,len(arr),1))"
   ]
  },
  {
   "cell_type": "markdown",
   "id": "10536bc7",
   "metadata": {},
   "source": [
    "#### 5.\tWrite a Python Program to check if given array is Monotonic?\n"
   ]
  },
  {
   "cell_type": "code",
   "execution_count": 14,
   "id": "ed11ecc4",
   "metadata": {},
   "outputs": [
    {
     "name": "stdout",
     "output_type": "stream",
     "text": [
      "True\n"
     ]
    }
   ],
   "source": [
    "def isMonotonic(l):\n",
    "    x,y = [],[]\n",
    "    x.extend(l)\n",
    "    y.extend(l)\n",
    "    x.sort()\n",
    "    y.sort(reverse=True)\n",
    "    if (x == l or y == l):\n",
    "        return True\n",
    "    return False\n",
    "\n",
    "l = [6,5,4,4]\n",
    "\n",
    "print(isMonotonic(l))"
   ]
  },
  {
   "cell_type": "code",
   "execution_count": null,
   "id": "4b798e0e",
   "metadata": {},
   "outputs": [],
   "source": []
  }
 ],
 "metadata": {
  "kernelspec": {
   "display_name": "Python 3 (ipykernel)",
   "language": "python",
   "name": "python3"
  },
  "language_info": {
   "codemirror_mode": {
    "name": "ipython",
    "version": 3
   },
   "file_extension": ".py",
   "mimetype": "text/x-python",
   "name": "python",
   "nbconvert_exporter": "python",
   "pygments_lexer": "ipython3",
   "version": "3.10.5"
  }
 },
 "nbformat": 4,
 "nbformat_minor": 5
}
