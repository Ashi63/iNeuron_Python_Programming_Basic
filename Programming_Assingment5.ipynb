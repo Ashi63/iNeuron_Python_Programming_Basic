{
 "cells": [
  {
   "cell_type": "markdown",
   "id": "4450d1ce",
   "metadata": {},
   "source": [
    "#### 1.\tWrite a Python Program to Find LCM?"
   ]
  },
  {
   "cell_type": "code",
   "execution_count": 7,
   "id": "8976f639",
   "metadata": {},
   "outputs": [
    {
     "name": "stdout",
     "output_type": "stream",
     "text": [
      "the LCM is : 216\n"
     ]
    }
   ],
   "source": [
    "def compute_lcm(x,y):\n",
    "    if x > y:\n",
    "        greater = x\n",
    "    else:\n",
    "        greater = y\n",
    "\n",
    "    while True:\n",
    "        if ((greater % x == 0) and (greater % y == 0)):\n",
    "            lcm = greater\n",
    "            break\n",
    "        greater +=1\n",
    "    return lcm\n",
    "\n",
    "num1 = 54\n",
    "num2 = 24\n",
    "print(f\"the LCM is : {compute_lcm(num1,num2)}\")"
   ]
  },
  {
   "cell_type": "markdown",
   "id": "6d8d0563",
   "metadata": {},
   "source": [
    "#### 2.\tWrite a Python Program to Find HCF?\n"
   ]
  },
  {
   "cell_type": "code",
   "execution_count": 8,
   "id": "ff6575d7",
   "metadata": {},
   "outputs": [
    {
     "name": "stdout",
     "output_type": "stream",
     "text": [
      "The HCF of the 12 and 30 is 6.\n"
     ]
    }
   ],
   "source": [
    "def compute_hcf(x,y):\n",
    "    if x > y:\n",
    "        smaller = y\n",
    "    else:\n",
    "        smaller = x\n",
    "    \n",
    "    for i in range (1,smaller+1):\n",
    "        if ((x%i==0) and (y%i==0)):\n",
    "            hcf = i\n",
    "    return hcf\n",
    "\n",
    "x = 12\n",
    "y = 30\n",
    "print(f\"The HCF of the {x} and {y} is {compute_hcf(x,y)}.\")"
   ]
  },
  {
   "cell_type": "markdown",
   "id": "af41e567",
   "metadata": {},
   "source": [
    "#### 3.\tWrite a Python Program to Convert Decimal to Binary, Octal and Hexadecimal?\n"
   ]
  },
  {
   "cell_type": "code",
   "execution_count": 11,
   "id": "5a4de208",
   "metadata": {},
   "outputs": [
    {
     "name": "stdout",
     "output_type": "stream",
     "text": [
      "Enter the Decimal number 10\n",
      "The Conversion of 10 decimal number to Binary is      : 0b1010\n",
      "The Conversion of 10 decimal number to Octal is       : 0o12\n",
      "The Conversion of 10 decimal number to Hexadecimal is : 0xa\n"
     ]
    }
   ],
   "source": [
    "decimal_num = int(input(\"Enter the Decimal number \"))\n",
    "print(f\"The Conversion of {decimal_num} decimal number to Binary is      : {bin(decimal_num)}\")\n",
    "print(f\"The Conversion of {decimal_num} decimal number to Octal is       : {oct(decimal_num)}\")\n",
    "print(f\"The Conversion of {decimal_num} decimal number to Hexadecimal is : {hex(decimal_num)}\")"
   ]
  },
  {
   "cell_type": "markdown",
   "id": "78683fc2",
   "metadata": {},
   "source": [
    "#### 4.\tWrite a Python Program To Find ASCII value of a character?\n"
   ]
  },
  {
   "cell_type": "code",
   "execution_count": 15,
   "id": "51aff9c7",
   "metadata": {},
   "outputs": [
    {
     "name": "stdout",
     "output_type": "stream",
     "text": [
      "Enter the character: a\n",
      "The ASCII value of the a is 97\n"
     ]
    }
   ],
   "source": [
    "str = input(\"Enter the character: \")\n",
    "print(f\"The ASCII value of the {str} is {ord(str)}\")"
   ]
  },
  {
   "cell_type": "markdown",
   "id": "b11b79cb",
   "metadata": {},
   "source": [
    "#### 5.\tWrite a Python Program to Make a Simple Calculator with 4 basic mathematical operations?"
   ]
  },
  {
   "cell_type": "code",
   "execution_count": 27,
   "id": "c126c89f",
   "metadata": {},
   "outputs": [
    {
     "name": "stdout",
     "output_type": "stream",
     "text": [
      "Enter the number as:\n",
      "                        1. To do addition.\n",
      "                        2. To do substraction.\n",
      "                        3. To do multiplication.\n",
      "                        4. To do division.\n",
      "                        2\n",
      "Enter Number: 10\n",
      "Enter Number: 5\n"
     ]
    },
    {
     "data": {
      "text/plain": [
       "5"
      ]
     },
     "execution_count": 27,
     "metadata": {},
     "output_type": "execute_result"
    }
   ],
   "source": [
    "def cal_demo(user_input,a,b):  \n",
    "    if user_input == 1:\n",
    "        result = a + b\n",
    "    elif user_input == 2:\n",
    "        result = a - b\n",
    "    elif user_input == 3:\n",
    "        result = a * b\n",
    "    elif user_input == 4:\n",
    "        result = a / b\n",
    "    return result\n",
    "    \n",
    "\n",
    "user_input = int(input(\"\"\"Enter the number as:\n",
    "                        1. To do addition.\n",
    "                        2. To do substraction.\n",
    "                        3. To do multiplication.\n",
    "                        4. To do division.\n",
    "                        \"\"\"))\n",
    "\n",
    "a = int(input(\"Enter Number: \"))\n",
    "b= int(input(\"Enter Number: \"))\n",
    "\n",
    "cal_demo(user_input,a,b)\n",
    "\n"
   ]
  },
  {
   "cell_type": "code",
   "execution_count": null,
   "id": "625daeca",
   "metadata": {},
   "outputs": [],
   "source": []
  }
 ],
 "metadata": {
  "kernelspec": {
   "display_name": "Python 3 (ipykernel)",
   "language": "python",
   "name": "python3"
  },
  "language_info": {
   "codemirror_mode": {
    "name": "ipython",
    "version": 3
   },
   "file_extension": ".py",
   "mimetype": "text/x-python",
   "name": "python",
   "nbconvert_exporter": "python",
   "pygments_lexer": "ipython3",
   "version": "3.10.5"
  }
 },
 "nbformat": 4,
 "nbformat_minor": 5
}
