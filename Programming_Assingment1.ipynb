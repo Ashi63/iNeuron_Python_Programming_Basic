{
 "cells": [
  {
   "cell_type": "markdown",
   "id": "111de24b",
   "metadata": {},
   "source": [
    "#### 1.\tWrite a Python program to print \"Hello Python\"?\n"
   ]
  },
  {
   "cell_type": "code",
   "execution_count": 1,
   "id": "c53df058",
   "metadata": {},
   "outputs": [
    {
     "name": "stdout",
     "output_type": "stream",
     "text": [
      "Hello Python\n"
     ]
    }
   ],
   "source": [
    "print(\"Hello Python\")"
   ]
  },
  {
   "cell_type": "markdown",
   "id": "ceb9b536",
   "metadata": {},
   "source": [
    "#### 2.\tWrite a Python program to do arithmetical operations addition and division.?\n"
   ]
  },
  {
   "cell_type": "code",
   "execution_count": 4,
   "id": "959e1810",
   "metadata": {},
   "outputs": [
    {
     "data": {
      "text/plain": [
       "15"
      ]
     },
     "execution_count": 4,
     "metadata": {},
     "output_type": "execute_result"
    }
   ],
   "source": [
    "# addition\n",
    "10+5"
   ]
  },
  {
   "cell_type": "code",
   "execution_count": 3,
   "id": "9873d962",
   "metadata": {},
   "outputs": [
    {
     "data": {
      "text/plain": [
       "2.0"
      ]
     },
     "execution_count": 3,
     "metadata": {},
     "output_type": "execute_result"
    }
   ],
   "source": [
    "# division\n",
    "10/5"
   ]
  },
  {
   "cell_type": "markdown",
   "id": "27acf775",
   "metadata": {},
   "source": [
    "#### 3.\tWrite a Python program to find the area of a triangle?\n"
   ]
  },
  {
   "cell_type": "code",
   "execution_count": 7,
   "id": "ebf99444",
   "metadata": {},
   "outputs": [
    {
     "name": "stdout",
     "output_type": "stream",
     "text": [
      "Area of triangle:  25.0\n"
     ]
    }
   ],
   "source": [
    "# area of triangle = (1/2)* base * height\n",
    "b = 5\n",
    "h = 10\n",
    "area_of_traingle = (1/2)* b * h\n",
    "print(\"Area of triangle: \",area_of_traingle)"
   ]
  },
  {
   "cell_type": "markdown",
   "id": "d7f14dfe",
   "metadata": {},
   "source": [
    "#### 4.\tWrite a Python program to swap two variables?\n"
   ]
  },
  {
   "cell_type": "code",
   "execution_count": 6,
   "id": "135143f9",
   "metadata": {},
   "outputs": [
    {
     "name": "stdout",
     "output_type": "stream",
     "text": [
      "a original:  10\n",
      "b original:  5\n",
      "a after swaping:  5\n",
      "b after swaping:  10\n"
     ]
    }
   ],
   "source": [
    "a = 10\n",
    "b = 5\n",
    "print(\"a original: \",a)\n",
    "print(\"b original: \",b)\n",
    "\n",
    "# temp variable\n",
    "c = a\n",
    "a = b\n",
    "b = c\n",
    "print(\"a after swaping: \",a)\n",
    "print(\"b after swaping: \",b)"
   ]
  },
  {
   "cell_type": "markdown",
   "id": "a4ec0851",
   "metadata": {},
   "source": [
    "#### 5.\tWrite a Python program to generate a random number?\n"
   ]
  },
  {
   "cell_type": "code",
   "execution_count": 8,
   "id": "0b0bf847",
   "metadata": {},
   "outputs": [
    {
     "name": "stdout",
     "output_type": "stream",
     "text": [
      "0.5721481415271427\n"
     ]
    }
   ],
   "source": [
    "import random \n",
    "num = random.random()\n",
    "print(num)"
   ]
  },
  {
   "cell_type": "code",
   "execution_count": null,
   "id": "614f40e5",
   "metadata": {},
   "outputs": [],
   "source": []
  }
 ],
 "metadata": {
  "kernelspec": {
   "display_name": "Python 3 (ipykernel)",
   "language": "python",
   "name": "python3"
  },
  "language_info": {
   "codemirror_mode": {
    "name": "ipython",
    "version": 3
   },
   "file_extension": ".py",
   "mimetype": "text/x-python",
   "name": "python",
   "nbconvert_exporter": "python",
   "pygments_lexer": "ipython3",
   "version": "3.10.5"
  }
 },
 "nbformat": 4,
 "nbformat_minor": 5
}
